# This code is for a Jupyter Notebook

import ipywidgets as widgets
from sympy import *
import matplotlib.pyplot as plt
import numpy as np
import math

def crit_points_deg(f):
    x = symbols('x')
    # Compute the gradient
    gradient = diff(f, x)
    hessian = diff(gradient, x)

    # Define the equation
    equation = Eq(gradient, 0)
    
    
    # Solve the system
    points = solve(equation, x, real=True)
    points = [num for num in points if not num.has(I)]
    deg_points = []
    non_deg_points = []

    # Now, check which points are degenerate or not, split into two lists
    ind = len(points)
    
    # Initialize the lists I'm gonna return
    deg_x_coords = []
    deg_y_coords = []
    nd_x_coords = []
    nd_y_coords = []
    f_numeric = lambdify(x, f, modules=['numpy'])
    
    if bool(points):  # if the list is non-empty
        for point in points:
            det = hessian.subs(x, point)
            if det == 0:
                deg_points.append(point)
            else:
                non_deg_points.append(point)

        # output the coordinates of the critical points
        deg_x_coords = [point for point in deg_points]
        deg_y_coords = [f_numeric(point) for point in deg_points]

        nd_x_coords = [point for point in non_deg_points]
        nd_y_coords = [f_numeric(point) for point in non_deg_points]
        
    # Also want to output a graph for f, say on the interval -1, 1
    x_value = np.linspace(-1, 1, 100)
    y_value = f_numeric(x_value)
    
    # Now graph things
    plt.plot(x_value, y_value)
    plt.scatter(deg_x_coords, deg_y_coords, color = 'red')
    plt.scatter(nd_x_coords, nd_y_coords, color = 'black')
   
# Choose a function f you want to perturb
x = symbols('x')
f = x**3

# Now define a perturbation of f
@widgets.interact(t=(-0.2, 0.2, 0.01))
def update(t=0):
    g = f + t*x
    crit_points_deg(g)
    plt.show()
